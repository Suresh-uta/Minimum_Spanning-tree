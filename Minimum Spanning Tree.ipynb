{
 "cells": [
  {
   "cell_type": "code",
   "execution_count": 42,
   "metadata": {},
   "outputs": [],
   "source": [
    "# Import statements\n",
    "import numpy as np\n",
    "import time\n",
    "from copy import deepcopy\n",
    "import pandas as pd\n",
    "import matplotlib.pyplot as plt\n",
    "import sys"
   ]
  },
  {
   "cell_type": "markdown",
   "metadata": {},
   "source": [
    "## Creating the Data Structures for Prim's algorithm"
   ]
  },
  {
   "cell_type": "code",
   "execution_count": 30,
   "metadata": {},
   "outputs": [],
   "source": [
    "class Graph:\n",
    "    def __init__(self, num_of_nodes):\n",
    "        self.V = num_of_nodes\n",
    "        # Initialize the adjacency matrix with zeros\n",
    "        self.graph = [[0 for column in range(num_of_nodes)] \n",
    "                    for row in range(num_of_nodes)]\n",
    "\n",
    "    def add_edge(self, node1, node2, weight):\n",
    "        self.graph[node1][node2] = weight\n",
    "        self.graph[node2][node1] = weight\n",
    "        \n",
    "    def minKey(self, key, mstSet):\n",
    "        min_val, min_index = sys.maxsize, -1\n",
    " \n",
    "        for v in range(self.V):\n",
    "            if key[v] < min_val and mstSet[v] == False:\n",
    "                min_val = key[v]\n",
    "                min_index = v\n",
    "                \n",
    "        return min_index\n",
    "\n",
    "            \n",
    "    def prims_mst(self):\n",
    "        # Key values used to pick minimum weight edge in cut\n",
    "        key = [sys.maxsize] * self.V\n",
    "        parent = [None] * self.V # Array to store constructed MST\n",
    "        # Make key 0 so that this vertex is picked as first vertex\n",
    "        key[0] = 0\n",
    "        mstSet = [False] * self.V\n",
    "        parent[0] = -1 # First node is always the root of\n",
    "\n",
    "        for cout in range(self.V):\n",
    "            u = self.minKey(key, mstSet)\n",
    "            mstSet[u] = True\n",
    "            for v in range(self.V):\n",
    "                if self.graph[u][v] > 0 and mstSet[v] == False and key[v] > self.graph[u][v]:\n",
    "                        key[v] = self.graph[u][v]\n",
    "                        parent[v] = u\n",
    "        for i in range(len(graph.graph)):\n",
    "            for j in range(0 + i, len(graph.graph)):\n",
    "                if graph.graph[i][j] != 0:\n",
    "                    print(\"%d - %d: %d\" % (i, j, graph.graph[i][j]))\n",
    "#         self.printMST(parent)\n"
   ]
  },
  {
   "cell_type": "markdown",
   "metadata": {},
   "source": [
    "## Creating the Data Structures of Kruskal's Algorithm"
   ]
  },
  {
   "cell_type": "code",
   "execution_count": 31,
   "metadata": {},
   "outputs": [],
   "source": [
    "class Graph_2:\n",
    "    def __init__(self, num_of_nodes):\n",
    "        self.m_num_of_nodes = num_of_nodes\n",
    "        self.m_graph = []\n",
    "\n",
    "    def add_edge(self, node1, node2, weight):\n",
    "        self.m_graph.append([node1, node2, weight])\n",
    "\n",
    "    # Finds the root node of a subtree containing node `i`\n",
    "    def find_subtree(self, parent, i):\n",
    "        if parent[i] == i:\n",
    "            return i\n",
    "        return self.find_subtree(parent, parent[i])\n",
    "\n",
    "    # Connects subtrees containing nodes `x` and `y`\n",
    "    def connect_subtrees(self, parent, subtree_sizes, x, y):\n",
    "        xroot = self.find_subtree(parent, x)\n",
    "        yroot = self.find_subtree(parent, y)\n",
    "        if subtree_sizes[xroot] < subtree_sizes[yroot]:\n",
    "            parent[xroot] = yroot\n",
    "        elif subtree_sizes[xroot] > subtree_sizes[yroot]:\n",
    "            parent[yroot] = xroot\n",
    "        else:\n",
    "            parent[yroot] = xroot\n",
    "            subtree_sizes[xroot] += 1\n",
    "            \n",
    "    def kruskals_mst(self):\n",
    "        # Resulting tree\n",
    "        result = []\n",
    "\n",
    "        # Iterator\n",
    "        i = 0\n",
    "        # Number of edges in MST\n",
    "        e = 0\n",
    "\n",
    "        # Sort edges by their weight\n",
    "#         print(self.m_graph)\n",
    "        self.m_graph = sorted(self.m_graph, key=lambda item: item[2])\n",
    "#         print(self.m_graph)\n",
    "#         Auxiliary arrays\n",
    "        parent = []\n",
    "        subtree_sizes = []\n",
    "\n",
    "        # Initialize `parent` and `subtree_sizes` arrays\n",
    "        for node in range(self.m_num_of_nodes):\n",
    "            parent.append(node)\n",
    "            subtree_sizes.append(0)\n",
    "\n",
    "        # Important property of MSTs\n",
    "        # number of egdes in a MST is \n",
    "        # equal to (m_num_of_nodes - 1)\n",
    "        while e < (self.m_num_of_nodes - 1) and i < self.m_num_of_nodes:\n",
    "            # Pick an edge with the minimal weight\n",
    "            node1, node2, weight = self.m_graph[i]\n",
    "#             print(i, e)\n",
    "            i = i + 1\n",
    "\n",
    "            x = self.find_subtree(parent, node1)\n",
    "            y = self.find_subtree(parent, node2)\n",
    "\n",
    "            if x != y:\n",
    "                e = e + 1\n",
    "                result.append([node1, node2, weight])\n",
    "                self.connect_subtrees(parent, subtree_sizes, x, y)\n",
    "\n",
    "        # Print the resulting MST\n",
    "        for node1, node2, weight in result:\n",
    "            print(\"%d - %d: %d\" % (node1, node2, weight))"
   ]
  },
  {
   "cell_type": "markdown",
   "metadata": {},
   "source": [
    "# User Input"
   ]
  },
  {
   "cell_type": "code",
   "execution_count": 32,
   "metadata": {},
   "outputs": [
    {
     "name": "stdout",
     "output_type": "stream",
     "text": [
      "****************************** MST Algorithms ******************************\n",
      "1. Kruskal Algorithm\n",
      "2. Prims Algorithm\n",
      "Select an Algorithm for testing (Enter choice): 2\n"
     ]
    }
   ],
   "source": [
    "print('****************************** MST Algorithms ******************************')\n",
    "print('1. Kruskal Algorithm')\n",
    "print('2. Prims Algorithm')\n",
    "choice = int(input('Select an Algorithm for testing (Enter choice): '))"
   ]
  },
  {
   "cell_type": "code",
   "execution_count": 33,
   "metadata": {},
   "outputs": [
    {
     "name": "stdout",
     "output_type": "stream",
     "text": [
      "Enter Input size: 5\n"
     ]
    }
   ],
   "source": [
    "n = int(input('Enter Input size: '))"
   ]
  },
  {
   "cell_type": "code",
   "execution_count": 36,
   "metadata": {},
   "outputs": [],
   "source": [
    "x = list(np.random.randint(low = 0,high = n - 1,size = 5*n))\n",
    "y = list(np.random.randint(low = 0,high = n - 1,size = 5*n))\n",
    "weights = list(np.random.randint(low = 1,high = 1000,size = 5*n))"
   ]
  },
  {
   "cell_type": "code",
   "execution_count": 37,
   "metadata": {},
   "outputs": [
    {
     "name": "stdout",
     "output_type": "stream",
     "text": [
      "Initial Graph\n",
      "0 - 2: 629\n",
      "0 - 3: 947\n",
      "1 - 2: 991\n",
      "3 - 3: 421\n",
      "MST from Prims\n",
      "0 - 2: 629\n",
      "0 - 3: 947\n",
      "1 - 2: 991\n",
      "3 - 3: 421\n",
      "Time taken by the algorithm is\n",
      "--- 0.0010013580322265625 seconds ---\n"
     ]
    }
   ],
   "source": [
    "graph = 0\n",
    "if choice == 1:\n",
    "    graph = Graph_2(n)\n",
    "else:\n",
    "    graph = Graph(n)\n",
    "\n",
    "for i in range(n):\n",
    "    graph.add_edge(x[i], y[i], weights[i])\n",
    "\n",
    "# ALl printing in the form (x, y, weight)\n",
    "# Initial Graph\n",
    "print('Initial Graph')\n",
    "if choice == 1:\n",
    "    for node1, node2, weight in graph.m_graph:\n",
    "        print(\"%d - %d: %d\" % (node1, node2, weight))\n",
    "else:\n",
    "    for i in range(len(graph.graph)):\n",
    "        for j in range(0 + i, len(graph.graph)):\n",
    "            if graph.graph[i][j] != 0:\n",
    "                print(\"%d - %d: %d\" % (i, j, graph.graph[i][j]))\n",
    "\n",
    "start_time = time.time()\n",
    "# MST\n",
    "if choice == 1:    \n",
    "    print('MST from Kruskals')\n",
    "    graph.kruskals_mst()\n",
    "else:\n",
    "    print('MST from Prims')\n",
    "    graph.prims_mst()\n",
    "time_taken = (time.time() - start_time)\n",
    "print('Time taken by the algorithm is')\n",
    "print(\"--- %s seconds ---\" % (time_taken))"
   ]
  },
  {
   "cell_type": "markdown",
   "metadata": {},
   "source": [
    "# Bonus"
   ]
  },
  {
   "cell_type": "code",
   "execution_count": 39,
   "metadata": {},
   "outputs": [
    {
     "name": "stdout",
     "output_type": "stream",
     "text": [
      "Comparing with the other choice we get the runtime and MST as\n",
      "Initial Graph\n",
      "0 - 3: 328\n",
      "3 - 3: 421\n",
      "0 - 3: 947\n",
      "1 - 2: 991\n",
      "0 - 2: 629\n",
      "MST from Kruskals\n",
      "0 - 3: 328\n",
      "0 - 2: 629\n",
      "1 - 2: 991\n",
      "--- 0.0 seconds ---\n"
     ]
    }
   ],
   "source": [
    "print('Comparing with the other choice we get the runtime and MST as')\n",
    "print('Initial Graph')\n",
    "graph = 0\n",
    "if choice == 2:\n",
    "    graph = Graph_2(n)\n",
    "    for i in range(n):\n",
    "        graph.add_edge(x[i], y[i], weights[i])\n",
    "    for node1, node2, weight in graph.m_graph:\n",
    "        print(\"%d - %d: %d\" % (node1, node2, weight))\n",
    "else:\n",
    "    graph = Graph(n)\n",
    "    for i in range(n):\n",
    "        graph.add_edge(x[i], y[i], weights[i])\n",
    "    for i in range(len(graph.graph)):\n",
    "        for j in range(0 + i, len(graph.graph)):\n",
    "            if graph.graph[i][j] != 0:\n",
    "                print(\"%d - %d: %d\" % (i, j, graph.graph[i][j]))\n",
    "\n",
    "# ALl printing in the form (x, y, weight)\n",
    "# Initial Graph\n",
    "start_time = time.time()\n",
    "# MST\n",
    "if choice == 2:    \n",
    "    print('MST from Kruskals')\n",
    "    graph.kruskals_mst()\n",
    "else:\n",
    "    print('MST from Prims')\n",
    "    graph.prims_mst()\n",
    "time_taken = (time.time() - start_time)\n",
    "print(\"--- %s seconds ---\" % (time_taken))"
   ]
  },
  {
   "cell_type": "markdown",
   "metadata": {},
   "source": [
    "## Comparison with respect to size and runtime"
   ]
  },
  {
   "cell_type": "code",
   "execution_count": 40,
   "metadata": {},
   "outputs": [
    {
     "name": "stdout",
     "output_type": "stream",
     "text": [
      "0 - 1: 511\n",
      "1 - 1: 679\n",
      "0 - 1: 496\n",
      "0 - 2: 290\n",
      "1 - 2: 117\n",
      "2 - 1: 57\n",
      "0 - 2: 290\n",
      "0 - 0: 736\n",
      "0 - 2: 776\n",
      "0 - 3: 796\n",
      "1 - 1: 894\n",
      "2 - 3: 897\n",
      "2 - 0: 776\n",
      "3 - 0: 796\n",
      "0 - 1: 3\n",
      "0 - 2: 741\n",
      "0 - 3: 82\n",
      "1 - 3: 689\n",
      "4 - 4: 979\n",
      "0 - 1: 3\n",
      "0 - 3: 82\n",
      "0 - 2: 741\n",
      "0 - 1: 354\n",
      "0 - 3: 429\n",
      "0 - 5: 938\n",
      "3 - 5: 886\n",
      "4 - 5: 534\n",
      "0 - 1: 82\n",
      "5 - 4: 162\n",
      "3 - 0: 429\n",
      "3 - 5: 886\n",
      "0 - 2: 804\n",
      "0 - 5: 498\n",
      "1 - 3: 778\n",
      "1 - 4: 667\n",
      "1 - 6: 237\n",
      "2 - 6: 657\n",
      "3 - 5: 554\n",
      "6 - 6: 209\n",
      "6 - 1: 237\n",
      "5 - 0: 498\n",
      "3 - 5: 554\n",
      "6 - 2: 657\n",
      "4 - 1: 667\n",
      "1 - 3: 778\n",
      "0 - 0: 86\n",
      "1 - 6: 439\n",
      "1 - 7: 907\n",
      "2 - 3: 850\n",
      "4 - 4: 505\n",
      "4 - 6: 867\n",
      "4 - 7: 857\n",
      "5 - 7: 169\n",
      "6 - 7: 492\n",
      "5 - 7: 169\n",
      "1 - 6: 439\n",
      "6 - 7: 492\n",
      "3 - 2: 850\n",
      "4 - 7: 857\n",
      "0 - 1: 860\n",
      "1 - 6: 773\n",
      "2 - 3: 265\n",
      "2 - 5: 741\n",
      "3 - 3: 959\n",
      "3 - 7: 868\n",
      "5 - 7: 503\n",
      "5 - 8: 866\n",
      "6 - 8: 900\n",
      "2 - 3: 265\n",
      "6 - 8: 318\n",
      "7 - 5: 503\n",
      "2 - 5: 741\n",
      "6 - 1: 773\n",
      "1 - 0: 860\n",
      "8 - 5: 866\n"
     ]
    }
   ],
   "source": [
    "prims, krusk, n_list = [], [], [i for i in range(3, 11)]\n",
    "for n in n_list:\n",
    "    graph = Graph(n)\n",
    "    graph_2 = Graph_2(n)\n",
    "    x = list(np.random.randint(low = 0,high = n - 1,size = 2*n))\n",
    "    y = list(np.random.randint(low = 0,high = n - 1,size = 2*n))\n",
    "    weights = list(np.random.randint(low = 1,high = 1000,size = 2*n))\n",
    "    for i in range(n):\n",
    "        graph.add_edge(x[i], y[i], weights[i])\n",
    "        graph_2.add_edge(x[i], y[i], weights[i])\n",
    "    start_time = time.time()\n",
    "    graph.prims_mst()\n",
    "    time_taken = (time.time() - start_time)\n",
    "    prims.append(time_taken)\n",
    "    \n",
    "    start_time = time.time()\n",
    "    graph_2.kruskals_mst()\n",
    "    time_taken = (time.time() - start_time)\n",
    "    krusk.append(time_taken)"
   ]
  },
  {
   "cell_type": "code",
   "execution_count": 45,
   "metadata": {},
   "outputs": [
    {
     "data": {
      "image/png": "[encoded data removed]",
      "text/plain": [
       "<Figure size 2160x2160 with 2 Axes>"
      ]
     },
     "metadata": {
      "needs_background": "light"
     },
     "output_type": "display_data"
    }
   ],
   "source": [
    "df = {'Prims' : prims, 'Kruskals' : krusk}\n",
    "df = pd.DataFrame(df)\n",
    "df.plot(kind = 'area', subplots = True, layout = (2, 1), figsize = (30, 30), xlabel = 'N', ylabel = 'Runtime (s)', sharex = True, sharey = True)\n",
    "plt.savefig('Time_vs_N.pdf', dpi=300)"
   ]
  },
  {
   "cell_type": "code",
   "execution_count": null,
   "metadata": {},
   "outputs": [],
   "source": [
    "# Conclusion\n",
    "'''\n",
    "Kruskal outperforms prim's by a lot of margin\n",
    "'''"
   ]
  }
 ],
 "metadata": {
  "kernelspec": {
   "display_name": "Python 3",
   "language": "python",
   "name": "python3"
  },
  "language_info": {
   "codemirror_mode": {
    "name": "ipython",
    "version": 3
   },
   "file_extension": ".py",
   "mimetype": "text/x-python",
   "name": "python",
   "nbconvert_exporter": "python",
   "pygments_lexer": "ipython3",
   "version": "3.7.9"
  }
 },
 "nbformat": 4,
 "nbformat_minor": 4
}
